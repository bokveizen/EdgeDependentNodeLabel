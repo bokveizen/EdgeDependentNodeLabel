{
 "cells": [
  {
   "cell_type": "code",
   "execution_count": 27,
   "id": "f5739689-3ed4-44e6-94f0-97fbff2bae21",
   "metadata": {},
   "outputs": [],
   "source": [
    "INPUTDIR = \"./\""
   ]
  },
  {
   "cell_type": "code",
   "execution_count": 28,
   "id": "a660313c-bd5f-43c1-b9eb-70947670d8c2",
   "metadata": {},
   "outputs": [],
   "source": [
    "sampled_paperid = set()\n",
    "with open(INPUTDIR + \"sampled_paperid.txt\", \"r\") as f:\n",
    "    for line in f.readlines():\n",
    "        paperid = line.rstrip().split(\"\\t\")[0]\n",
    "        sampled_paperid.add(paperid)"
   ]
  },
  {
   "cell_type": "code",
   "execution_count": 29,
   "id": "1f42dadd-a612-45d6-8cfc-115dfd44849f",
   "metadata": {},
   "outputs": [],
   "source": [
    "paperid2hindex = {}\n",
    "hindex2paperid = {}\n",
    "hedge2node = []\n",
    "hedge2nodepos =[]\n",
    "authorid2vindex = {}\n",
    "vindex2authorid = {}\n",
    "numhedges = 0\n",
    "numnodes = 0"
   ]
  },
  {
   "cell_type": "code",
   "execution_count": 30,
   "id": "a56b2278-a6ea-48db-929c-7f6a42496d00",
   "metadata": {},
   "outputs": [],
   "source": [
    "with open(INPUTDIR + \"hypergraph.txt\", \"r\") as f, open(INPUTDIR + \"hypergraph_pos.txt\", \"r\") as pf:\n",
    "    for line, pline in zip(f.readlines(), pf.readlines()):\n",
    "        nodes = line.rstrip().split(\"\\t\")\n",
    "        node_poses = pline.rstrip().split(\"\\t\")[1:]\n",
    "        paperid = nodes[0]\n",
    "        nodes = nodes[1:]\n",
    "        if len(nodes) == 1:\n",
    "            continue\n",
    "        elif paperid not in sampled_paperid:\n",
    "            continue\n",
    "        hindex = numhedges\n",
    "        paperid2hindex[paperid] = hindex\n",
    "        hindex2paperid[hindex] = paperid\n",
    "        numhedges += 1\n",
    "        hedge2node.append([])\n",
    "        hedge2nodepos.append([])\n",
    "        \n",
    "        for authorid, _vpos in zip(nodes, node_poses):\n",
    "            if authorid not in authorid2vindex:\n",
    "                vindex = numnodes\n",
    "                authorid2vindex[authorid] = vindex\n",
    "                vindex2authorid[vindex] = authorid\n",
    "                numnodes += 1\n",
    "            vindex = authorid2vindex[authorid]\n",
    "            if int(_vpos) == 1:\n",
    "                vpos = 0\n",
    "            elif int(_vpos) == len(nodes):\n",
    "                vpos = 2\n",
    "            else:\n",
    "                vpos = 1\n",
    "            hedge2node[hindex].append(int(vindex))\n",
    "            hedge2nodepos[hindex].append(int(vpos))"
   ]
  },
  {
   "cell_type": "code",
   "execution_count": 31,
   "id": "7fe33d47-bd34-4532-bdd8-e4f590994943",
   "metadata": {},
   "outputs": [],
   "source": [
    "OUTPUTDIR = \"/workspace/WithInHyperedgeNodeLabel/downstreamdata/AMiner/\""
   ]
  },
  {
   "cell_type": "code",
   "execution_count": 32,
   "id": "2e51a012-c299-44af-bc7e-dfe5a8705cd0",
   "metadata": {},
   "outputs": [],
   "source": [
    "with open(OUTPUTDIR + \"hypergraph.txt\", \"w\") as f:\n",
    "    for hindex in range(numhedges):\n",
    "        paperid = \"'\" + hindex2paperid[hindex] + \"'\"\n",
    "        nodes = [str(v) for v in hedge2node[hindex]]\n",
    "        line = \"\\t\".join([paperid] + nodes)\n",
    "        f.write(line + \"\\n\")\n",
    "                         \n",
    "with open(OUTPUTDIR + \"hypergraph_pos.txt\", \"w\") as f:\n",
    "    for hindex in range(numhedges):\n",
    "        paperid = \"'\" + hindex2paperid[hindex] + \"'\"\n",
    "        nodeposes = [str(vpos) for vpos in hedge2nodepos[hindex]]\n",
    "        line = \"\\t\".join([paperid] + nodeposes)\n",
    "        f.write(line + \"\\n\")"
   ]
  },
  {
   "cell_type": "code",
   "execution_count": null,
   "id": "ee4feea9-88c7-42ee-871d-692ac505e369",
   "metadata": {},
   "outputs": [],
   "source": []
  },
  {
   "cell_type": "code",
   "execution_count": null,
   "id": "06d308d2-38aa-471a-ba5d-545c98d4500d",
   "metadata": {},
   "outputs": [],
   "source": [
    "from sklearn.model_selection import train_test_split"
   ]
  },
  {
   "cell_type": "code",
   "execution_count": 36,
   "id": "95140801-8466-4225-9c91-4f29f5cbb2d9",
   "metadata": {},
   "outputs": [],
   "source": [
    "sampled_hindex = set()\n",
    "with open(INPUTDIR + \"sampled_paperid_10000.txt\", \"r\") as f:\n",
    "    for line in f.readlines():\n",
    "        paperid = line.rstrip()\n",
    "        if paperid in paperid2hindex:\n",
    "            hindex = paperid2hindex[paperid]\n",
    "            sampled_hindex.add(hindex)"
   ]
  },
  {
   "cell_type": "code",
   "execution_count": 37,
   "id": "ddfe4992-faa5-4ee6-ade8-9ee1f91c93c0",
   "metadata": {},
   "outputs": [
    {
     "name": "stdout",
     "output_type": "stream",
     "text": [
      "10000\n"
     ]
    }
   ],
   "source": [
    "print(len(sampled_hindex))"
   ]
  },
  {
   "cell_type": "code",
   "execution_count": 38,
   "id": "cd60fb82-afb2-4323-8d07-5c05bf1cca09",
   "metadata": {},
   "outputs": [],
   "source": [
    "with open(OUTPUTDIR + \"sampled_hset_10000.txt\", \"w\") as f:\n",
    "    for hindex in sampled_hindex:\n",
    "        f.write(str(hindex) + \"\\n\")"
   ]
  },
  {
   "cell_type": "code",
   "execution_count": 41,
   "id": "f73b8983-016c-4f18-94b4-9ff3fc452d2d",
   "metadata": {
    "scrolled": true,
    "tags": []
   },
   "outputs": [],
   "source": [
    "_train_hindex, test_hindex = train_test_split(list(sampled_hindex), test_size=0.2, random_state=21)\n",
    "train_hindex, valid_hindex = train_test_split(_train_hindex, test_size=0.25, random_state=21)"
   ]
  },
  {
   "cell_type": "code",
   "execution_count": 42,
   "id": "314b582f-857d-436e-a3c2-ab4439d72b6a",
   "metadata": {},
   "outputs": [
    {
     "name": "stdout",
     "output_type": "stream",
     "text": [
      "2000\n",
      "2000\n"
     ]
    }
   ],
   "source": [
    "print(len(valid_hindex))\n",
    "print(len(test_hindex))"
   ]
  },
  {
   "cell_type": "code",
   "execution_count": 43,
   "id": "9a239082-a639-4962-9873-80e38942daf0",
   "metadata": {},
   "outputs": [],
   "source": [
    "with open(OUTPUTDIR + \"valid_hindex_10000.txt\", \"w\") as f:\n",
    "    for hindex in valid_hindex:\n",
    "        paperid = hindex2paperid[hindex]\n",
    "        f.write(paperid + \"\\n\")\n",
    "\n",
    "with open(OUTPUTDIR + \"test_hindex_10000.txt\", \"w\") as f:\n",
    "    for hindex in test_hindex:\n",
    "        paperid = hindex2paperid[hindex]\n",
    "        f.write(paperid + \"\\n\")"
   ]
  },
  {
   "cell_type": "code",
   "execution_count": null,
   "id": "43a2dd8f-d7b4-4f98-b456-7dea5b373eff",
   "metadata": {},
   "outputs": [],
   "source": []
  }
 ],
 "metadata": {
  "kernelspec": {
   "display_name": "Python 3 (ipykernel)",
   "language": "python",
   "name": "python3"
  },
  "language_info": {
   "codemirror_mode": {
    "name": "ipython",
    "version": 3
   },
   "file_extension": ".py",
   "mimetype": "text/x-python",
   "name": "python",
   "nbconvert_exporter": "python",
   "pygments_lexer": "ipython3",
   "version": "3.7.11"
  }
 },
 "nbformat": 4,
 "nbformat_minor": 5
}
