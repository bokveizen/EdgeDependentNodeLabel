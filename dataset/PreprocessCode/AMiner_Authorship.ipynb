{
  "cells": [
    {
      "cell_type": "code",
      "execution_count": null,
      "id": "57614dda",
      "metadata": {
        "id": "57614dda"
      },
      "outputs": [],
      "source": [
        "import pandas as pd"
      ]
    },
    {
      "cell_type": "code",
      "execution_count": null,
      "id": "b210df66",
      "metadata": {
        "id": "b210df66"
      },
      "outputs": [],
      "source": [
        "# hypergraph.txt & hypergraph_pos.txt\n",
        "\n",
        "hedge2index = {}\n",
        "hindex2hedge = {}\n",
        "node2index = {}\n",
        "vindex2node = {}\n",
        "hedge2nodes = []\n",
        "hedge2nodepos = []\n",
        "\n",
        "node2pos = []"
      ]
    },
    {
      "cell_type": "code",
      "execution_count": null,
      "id": "30c70d20",
      "metadata": {
        "id": "30c70d20"
      },
      "outputs": [],
      "source": [
        "with open(\"AMiner-Author2Paper.txt\", \"r\") as f:\n",
        "    for line in f.readlines():\n",
        "        index, authorid, paperid, pos = line.rstrip().split(\"\\t\")\n",
        "        if paperid not in hedge2index:\n",
        "            hindex = len(hedge2index)\n",
        "            hedge2index[paperid] = hindex\n",
        "            hindex2hedge[hindex] = paperid\n",
        "            hedge2nodes.append([])\n",
        "            hedge2nodepos.append([])\n",
        "        paperindex = hedge2index[paperid]\n",
        "        if authorid not in node2index:\n",
        "            vindex = len(node2index)\n",
        "            node2index[authorid] = vindex\n",
        "            vindex2node[vindex] = authorid\n",
        "            node2pos.append([])\n",
        "        authorindex = node2index[authorid]\n",
        "        pos = int(pos)\n",
        "        \n",
        "        hedge2nodes[paperindex].append(authorindex)\n",
        "        assert pos not in hedge2nodepos[paperindex]\n",
        "        hedge2nodepos[paperindex].append(pos)\n",
        "        node2pos[authorindex].append(pos)"
      ]
    },
    {
      "cell_type": "code",
      "execution_count": null,
      "id": "49811049",
      "metadata": {
        "id": "49811049"
      },
      "outputs": [],
      "source": [
        "# hedge2nodes = []\n",
        "# hedge2nodepos = []\n",
        "with open(\"hypergraph.txt\", \"w\") as f:\n",
        "    for hedge in hedge2nodes:\n",
        "        line = [str(v) for v in hedge]\n",
        "        f.write(\"\\t\".join(line) + \"\\n\")\n",
        "\n",
        "with open(\"hypergraph_pos.txt\", \"w\") as f:\n",
        "    for hedge in hedge2nodepos:\n",
        "        line = [str(l) for l in hedge]\n",
        "        f.write(\"\\t\".join(line) + \"\\n\")"
      ]
    },
    {
      "cell_type": "code",
      "execution_count": null,
      "id": "a2e7e4c0",
      "metadata": {
        "id": "a2e7e4c0"
      },
      "outputs": [],
      "source": []
    }
  ],
  "metadata": {
    "kernelspec": {
      "display_name": "Python 3 (ipykernel)",
      "language": "python",
      "name": "python3"
    },
    "language_info": {
      "codemirror_mode": {
        "name": "ipython",
        "version": 3
      },
      "file_extension": ".py",
      "mimetype": "text/x-python",
      "name": "python",
      "nbconvert_exporter": "python",
      "pygments_lexer": "ipython3",
      "version": "3.9.7"
    },
    "colab": {
      "provenance": []
    }
  },
  "nbformat": 4,
  "nbformat_minor": 5
}