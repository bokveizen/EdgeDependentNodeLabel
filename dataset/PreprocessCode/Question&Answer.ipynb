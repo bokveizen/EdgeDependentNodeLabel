{
 "cells": [
  {
   "cell_type": "code",
   "execution_count": 1,
   "id": "06d8db2c",
   "metadata": {},
   "outputs": [],
   "source": [
    "from collections import defaultdict\n",
    "\n",
    "Id2line = {}\n",
    "Type2Id = defaultdict(list)"
   ]
  },
  {
   "cell_type": "code",
   "execution_count": 2,
   "id": "d57cc03f",
   "metadata": {},
   "outputs": [],
   "source": [
    "with open(\"Posts.xml\", \"r\") as f:\n",
    "    f.readline()\n",
    "    f.readline()\n",
    "    for line in f.readlines():\n",
    "        line = line.strip()   \n",
    "        if line == \"</posts>\":\n",
    "            continue\n",
    "        # assert one post\n",
    "        assert line.startswith(\"<\")\n",
    "        assert line.endswith(\"/>\"), line\n",
    "        \n",
    "        line = line[1:-2]\n",
    "        post_id = None\n",
    "        for item in line.split('\" ')[:-1]:\n",
    "            name, value = item.split('=\"')\n",
    "            if name == \"row Id\":\n",
    "                value = int(value)\n",
    "                Id2line[value] = line\n",
    "                post_id = value\n",
    "            elif name == \"PostTypeId\":\n",
    "                value = int(value)\n",
    "                Type2Id[value].append(post_id)"
   ]
  },
  {
   "cell_type": "code",
   "execution_count": 3,
   "id": "082a1308",
   "metadata": {},
   "outputs": [
    {
     "data": {
      "text/plain": [
       "dict_keys([1, 2, 5, 4, 7, 6])"
      ]
     },
     "execution_count": 3,
     "metadata": {},
     "output_type": "execute_result"
    }
   ],
   "source": [
    "Type2Id.keys()"
   ]
  },
  {
   "cell_type": "code",
   "execution_count": 4,
   "id": "f3abc5e8",
   "metadata": {},
   "outputs": [],
   "source": [
    "hedge2node = []\n",
    "hedge2nodelabel = []\n",
    "hedge2nodescore = []\n",
    "\n",
    "hedge2index = {}\n",
    "node2index = {}\n",
    "\n",
    "checkId = {}"
   ]
  },
  {
   "cell_type": "code",
   "execution_count": 5,
   "id": "b07cc727",
   "metadata": {},
   "outputs": [],
   "source": [
    "for id in Type2Id[1]:\n",
    "    checkId[id] = True\n",
    "    line = Id2line[id]\n",
    "    hindex = len(hedge2index)\n",
    "    hedge2index[id] = hindex\n",
    "    hedge2node.append([])\n",
    "    hedge2nodelabel.append([])\n",
    "    hedge2nodescore.append([])\n",
    "    \n",
    "    qid, qscore = None, None\n",
    "    for item in line.split('\" ')[:-1]:\n",
    "        name, value = item.split('=\"')\n",
    "        if name == \"AcceptedAnswerId\":\n",
    "            nid = int(value)\n",
    "            assert nid not in checkId, nid\n",
    "            checkId[nid] = True\n",
    "            nline = Id2line[nid]\n",
    "            userid, score = None, None\n",
    "            for item in nline.split('\" ')[:-1]:\n",
    "                name, value = item.split('=\"')\n",
    "                if name == \"ParentId\":\n",
    "                    assert id == int(value)\n",
    "                elif name == \"OwnerUserId\":\n",
    "                    userid =  int(value)\n",
    "                    if userid not in node2index:\n",
    "                        node2index[userid] = len(node2index)\n",
    "                elif name == \"Score\":\n",
    "                    score = int(value)\n",
    "            if userid != None:\n",
    "                user_reindex = node2index[userid]\n",
    "                hedge2node[hindex].append(user_reindex)\n",
    "                hedge2nodelabel[hindex].append(2)\n",
    "                hedge2nodescore[hindex].append(score)\n",
    "        elif name == \"OwnerUserId\":\n",
    "            qid = int(value)\n",
    "            if qid not in node2index:\n",
    "                node2index[qid] = len(node2index)\n",
    "        elif name == \"Score\":\n",
    "            qscore = int(value)\n",
    "    if qid != None:\n",
    "        q_reindex = node2index[qid]\n",
    "        hedge2node[hindex].append(q_reindex)\n",
    "        hedge2nodelabel[hindex].append(0)\n",
    "        hedge2nodescore[hindex].append(qscore)"
   ]
  },
  {
   "cell_type": "code",
   "execution_count": 6,
   "id": "56a1c931",
   "metadata": {},
   "outputs": [],
   "source": [
    "for id in Type2Id[2]:\n",
    "    if id in checkId:\n",
    "        continue\n",
    "    line = Id2line[id]\n",
    "    checkId[id] = True\n",
    "    parentid, userid, score = None, None, None\n",
    "    for item in line.split('\" ')[:-1]:\n",
    "        name, value = item.split('=\"')\n",
    "        if name == \"ParentId\":\n",
    "            parentid = int(value)\n",
    "        elif name == \"OwnerUserId\":\n",
    "            userid =  int(value)\n",
    "            if userid not in node2index:\n",
    "                node2index[userid] = len(node2index)\n",
    "        elif name == \"Score\":\n",
    "            score = int(value)\n",
    "    \n",
    "    if userid != None:\n",
    "        hindex = hedge2index[parentid]\n",
    "        user_reindex = node2index[userid]\n",
    "\n",
    "        hedge2node[hindex].append(user_reindex)\n",
    "        hedge2nodelabel[hindex].append(1)\n",
    "        hedge2nodescore[hindex].append(score)"
   ]
  },
  {
   "cell_type": "code",
   "execution_count": 7,
   "id": "595f1476",
   "metadata": {},
   "outputs": [
    {
     "name": "stdout",
     "output_type": "stream",
     "text": [
      "26918\n"
     ]
    }
   ],
   "source": [
    "print(len(hedge2node))"
   ]
  },
  {
   "cell_type": "code",
   "execution_count": 8,
   "id": "a748074a",
   "metadata": {},
   "outputs": [],
   "source": [
    "with open(\"hypergraph.txt\", \"w\") as f:\n",
    "    for hedge in hedge2node:\n",
    "        if len(hedge) == 0:\n",
    "            continue\n",
    "        line = [str(v) for v in hedge]\n",
    "        f.write(\"\\t\".join(line) + \"\\n\")\n",
    "    \n",
    "with open(\"hypergraph_pos.txt\", \"w\") as f:\n",
    "    for hedge in hedge2nodelabel:\n",
    "        if len(hedge) == 0:\n",
    "            continue\n",
    "        line = [str(lab) for lab in hedge]\n",
    "        f.write(\"\\t\".join(line) + \"\\n\")\n",
    "    \n",
    "with open(\"hypergraph_score.txt\", \"w\") as f:\n",
    "    for hedge in hedge2nodelabel:\n",
    "        if len(hedge) == 0:\n",
    "            continue\n",
    "        line = [str(sc) for sc in hedge]\n",
    "        f.write(\"\\t\".join(line) + \"\\n\")"
   ]
  }
 ],
 "metadata": {
  "kernelspec": {
   "display_name": "Python 3 (ipykernel)",
   "language": "python",
   "name": "python3"
  },
  "language_info": {
   "codemirror_mode": {
    "name": "ipython",
    "version": 3
   },
   "file_extension": ".py",
   "mimetype": "text/x-python",
   "name": "python",
   "nbconvert_exporter": "python",
   "pygments_lexer": "ipython3",
   "version": "3.9.7"
  }
 },
 "nbformat": 4,
 "nbformat_minor": 5
}
